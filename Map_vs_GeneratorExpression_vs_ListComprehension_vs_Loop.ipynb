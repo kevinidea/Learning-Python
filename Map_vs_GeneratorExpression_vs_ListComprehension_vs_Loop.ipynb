{
 "cells": [
  {
   "cell_type": "markdown",
   "metadata": {},
   "source": [
    "# Comparison of Performance Between\n",
    "# Map vs. Generator Expression vs. List Comprehension vs. Loop"
   ]
  },
  {
   "cell_type": "markdown",
   "metadata": {},
   "source": [
    "## Map is 2x faster than Generator Expressions, both of which are 1000x+ times faster than List Comprehension and Loop. \n",
    "\n",
    "## List Comprehension is a 10%-40% faster than Loop but can be slower in some cases such as using sum function in it.\n",
    "\n",
    "## Generator Expressions is 10%-20% faster than Map+Filter when Filtering is required\n",
    "\n",
    "## Loop is almost always the slowest"
   ]
  },
  {
   "cell_type": "markdown",
   "metadata": {},
   "source": [
    "## Doing Calculations with 1 list\n",
    "### Take each number from list1 to the power of square root of 2"
   ]
  },
  {
   "cell_type": "code",
   "execution_count": 59,
   "metadata": {
    "collapsed": true
   },
   "outputs": [],
   "source": [
    "#Make two list each consisting of 3 million numbers\n",
    "list1 = [123,456,7890]*10**6 \n",
    "list2 = [456,789,2345]*10**6"
   ]
  },
  {
   "cell_type": "code",
   "execution_count": 60,
   "metadata": {
    "collapsed": false
   },
   "outputs": [
    {
     "name": "stdout",
     "output_type": "stream",
     "text": [
      "The slowest run took 4.99 times longer than the fastest. This could mean that an intermediate result is being cached \n",
      "1000000 loops, best of 3: 266 ns per loop\n"
     ]
    }
   ],
   "source": [
    "#MAP\n",
    "%timeit map(lambda x: x**2**0.5, list1)"
   ]
  },
  {
   "cell_type": "code",
   "execution_count": 61,
   "metadata": {
    "collapsed": false
   },
   "outputs": [
    {
     "name": "stdout",
     "output_type": "stream",
     "text": [
      "The slowest run took 4.76 times longer than the fastest. This could mean that an intermediate result is being cached \n",
      "1000000 loops, best of 3: 418 ns per loop\n"
     ]
    }
   ],
   "source": [
    "#GENERATOR EXPRESSION\n",
    "%timeit (x**2**0.5 for x in list1)"
   ]
  },
  {
   "cell_type": "code",
   "execution_count": 62,
   "metadata": {
    "collapsed": false
   },
   "outputs": [
    {
     "name": "stdout",
     "output_type": "stream",
     "text": [
      "1 loops, best of 3: 734 ms per loop\n"
     ]
    }
   ],
   "source": [
    "#LIST COMPREHENSION\n",
    "%timeit [x**2**0.5 for x in list1]"
   ]
  },
  {
   "cell_type": "code",
   "execution_count": 63,
   "metadata": {
    "collapsed": false
   },
   "outputs": [
    {
     "name": "stdout",
     "output_type": "stream",
     "text": [
      "1 loops, best of 3: 1.02 s per loop\n"
     ]
    }
   ],
   "source": [
    "#LOOP\n",
    "num = []\n",
    "%timeit for x in list1: num.append(x**2**0.5)"
   ]
  },
  {
   "cell_type": "markdown",
   "metadata": {},
   "source": [
    "## Doing Calculations with 2 lists\n",
    "### Add numbers from two lists element-wise and then take each result to the power of square root of 2"
   ]
  },
  {
   "cell_type": "code",
   "execution_count": 64,
   "metadata": {
    "collapsed": false
   },
   "outputs": [
    {
     "name": "stdout",
     "output_type": "stream",
     "text": [
      "1000000 loops, best of 3: 340 ns per loop\n"
     ]
    }
   ],
   "source": [
    "#MAP\n",
    "%timeit map(lambda a,b: (a+b)**2**0.5, list1, list2)"
   ]
  },
  {
   "cell_type": "code",
   "execution_count": 65,
   "metadata": {
    "collapsed": false
   },
   "outputs": [
    {
     "name": "stdout",
     "output_type": "stream",
     "text": [
      "The slowest run took 4.91 times longer than the fastest. This could mean that an intermediate result is being cached \n",
      "1000000 loops, best of 3: 675 ns per loop\n"
     ]
    }
   ],
   "source": [
    "#GENERATOR EXPRESSION \n",
    "%timeit ((a+b)**2**0.5 for a,b in zip(list1,list2))"
   ]
  },
  {
   "cell_type": "code",
   "execution_count": 66,
   "metadata": {
    "collapsed": false
   },
   "outputs": [
    {
     "name": "stdout",
     "output_type": "stream",
     "text": [
      "1 loops, best of 3: 925 ms per loop\n"
     ]
    }
   ],
   "source": [
    "#LIST COMPREHENSION\n",
    "%timeit [(a+b)**2**0.5 for a,b in zip(list1,list2)]"
   ]
  },
  {
   "cell_type": "code",
   "execution_count": 67,
   "metadata": {
    "collapsed": false
   },
   "outputs": [
    {
     "name": "stdout",
     "output_type": "stream",
     "text": [
      "1 loops, best of 3: 1.25 s per loop\n"
     ]
    }
   ],
   "source": [
    "#LOOP\n",
    "num =[]\n",
    "%timeit for a,b in zip(list1,list2): num.append((a+b)**2**0.5)"
   ]
  },
  {
   "cell_type": "code",
   "execution_count": 68,
   "metadata": {
    "collapsed": false
   },
   "outputs": [
    {
     "name": "stdout",
     "output_type": "stream",
     "text": [
      "1 loops, best of 3: 1.59 s per loop\n"
     ]
    }
   ],
   "source": [
    "#LIST COMPREHENSION with SUM which is even slower than loop\n",
    "%timeit [sum(x)**2**0.5 for x in zip(list1,list2)]"
   ]
  },
  {
   "cell_type": "markdown",
   "metadata": {},
   "source": [
    "## Doing Calculations with Mapping & Filtering\n",
    "### Finding Squares of all numbers under 1000 in list2"
   ]
  },
  {
   "cell_type": "code",
   "execution_count": 70,
   "metadata": {
    "collapsed": false
   },
   "outputs": [
    {
     "name": "stdout",
     "output_type": "stream",
     "text": [
      "The slowest run took 4.81 times longer than the fastest. This could mean that an intermediate result is being cached \n",
      "1000000 loops, best of 3: 414 ns per loop\n"
     ]
    }
   ],
   "source": [
    "#GENERATOR EXPRESSION\n",
    "%timeit (x*x for x in list2 if x <1000)"
   ]
  },
  {
   "cell_type": "code",
   "execution_count": 69,
   "metadata": {
    "collapsed": false
   },
   "outputs": [
    {
     "name": "stdout",
     "output_type": "stream",
     "text": [
      "The slowest run took 4.97 times longer than the fastest. This could mean that an intermediate result is being cached \n",
      "1000000 loops, best of 3: 467 ns per loop\n"
     ]
    }
   ],
   "source": [
    "#MAP & FILTER\n",
    "%timeit map(lambda x:x*x, filter(lambda x:x <1000, list2))"
   ]
  },
  {
   "cell_type": "code",
   "execution_count": 71,
   "metadata": {
    "collapsed": false
   },
   "outputs": [
    {
     "name": "stdout",
     "output_type": "stream",
     "text": [
      "1 loops, best of 3: 297 ms per loop\n"
     ]
    }
   ],
   "source": [
    "#LIST COMPREHENSION\n",
    "%timeit [x*x for x in list2 if x<1000]"
   ]
  },
  {
   "cell_type": "code",
   "execution_count": 73,
   "metadata": {
    "collapsed": false
   },
   "outputs": [
    {
     "name": "stdout",
     "output_type": "stream",
     "text": [
      "1 loop, 593 ms per loop\n"
     ]
    }
   ],
   "source": [
    "#LOOP \n",
    "num =[]\n",
    "import datetime as dt\n",
    "\n",
    "#time before the loop\n",
    "time1 = dt.datetime.now()\n",
    "\n",
    "for x in list2:\n",
    "    if x <1000: \n",
    "        num.append(x*x)\n",
    "\n",
    "#time after the loop\n",
    "time2 = dt.datetime.now()\n",
    "#time difference in ms,µs,ns (10**3, 10**6, 10**9)\n",
    "timeDifference = (time2-time1).total_seconds()*10**3\n",
    "print('1 loop, {0:.0f} ms per loop'.format(timeDifference))"
   ]
  },
  {
   "cell_type": "code",
   "execution_count": null,
   "metadata": {
    "collapsed": true
   },
   "outputs": [],
   "source": []
  }
 ],
 "metadata": {
  "kernelspec": {
   "display_name": "Python 3",
   "language": "python",
   "name": "python3"
  },
  "language_info": {
   "codemirror_mode": {
    "name": "ipython",
    "version": 3
   },
   "file_extension": ".py",
   "mimetype": "text/x-python",
   "name": "python",
   "nbconvert_exporter": "python",
   "pygments_lexer": "ipython3",
   "version": "3.4.3"
  }
 },
 "nbformat": 4,
 "nbformat_minor": 0
}
